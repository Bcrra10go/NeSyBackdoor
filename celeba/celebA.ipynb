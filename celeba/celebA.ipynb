{
 "cells": [
  {
   "metadata": {},
   "cell_type": "markdown",
   "source": [
    "# CelebA Semantic Loss Model\n",
    "#### Research Project - Diego Becerra Merodio 5459117\n",
    "In this Jupyter Notebook, we will train a Semantic Loss model with task of recognizing the different features labeled by the CelebA dataset. This dataset takes images of celebrities and identifies 40 different attributes from their facial features. Using the following image, we identified the correlation between the attributes and derived the predicates for the Semantic Loss model.\n",
    "\n",
    "<img src=\"images/CelebA_correlation.png\" alt=\"CelebA Sample\" width=\"600\"/>"
   ],
   "id": "1ec6702a92529203"
  },
  {
   "metadata": {},
   "cell_type": "markdown",
   "source": "The first step is to declare and import all dependencies",
   "id": "92548c4c6e9f87ea"
  },
  {
   "metadata": {
    "ExecuteTime": {
     "end_time": "2025-05-12T15:34:02.986735Z",
     "start_time": "2025-05-12T15:34:02.983105Z"
    }
   },
   "cell_type": "code",
   "source": [
    "import matplotlib.pyplot as plt\n",
    "import numpy as np\n",
    "import torch\n",
    "import torch.nn as nn\n",
    "import torchvision.transforms as transforms\n",
    "from semantic_loss_pytorch import SemanticLoss\n",
    "from tqdm import tqdm\n",
    "from sklearn.model_selection import train_test_split\n",
    "from torch import optim\n",
    "from torchvision.datasets import CelebA\n",
    "from torch.utils.data import DataLoader, Subset\n",
    "from torch.utils.data import Dataset"
   ],
   "id": "5b50a8dcde5934bf",
   "outputs": [],
   "execution_count": 12
  },
  {
   "metadata": {},
   "cell_type": "markdown",
   "source": "After this, we can defined our custom data set for a semisupervised CelebA data set and a model for our neural network",
   "id": "dbaaa884c3d80668"
  },
  {
   "metadata": {
    "ExecuteTime": {
     "end_time": "2025-05-12T15:34:03.009325Z",
     "start_time": "2025-05-12T15:34:03.003789Z"
    }
   },
   "cell_type": "code",
   "source": [
    "# === Dataset ===\n",
    "class SemiSupervisedCelebA(Dataset):\n",
    "    def __init__(self, dataset, labeled_ratio=0.1):\n",
    "        self.dataset = dataset\n",
    "\n",
    "        # Get subset indices\n",
    "        subset_indices = dataset.indices\n",
    "        full_attrs = dataset.dataset.attr.clone()  # shape: [N, 40]\n",
    "\n",
    "        # Only use attributes for the subset\n",
    "        self.attrs = full_attrs[subset_indices]\n",
    "        self.attrs[self.attrs == -1] = 0\n",
    "\n",
    "        # Create label mask\n",
    "        self.labeled_mask = torch.zeros(len(self.attrs), dtype=torch.bool)\n",
    "        labeled_count = int(len(self.attrs) * labeled_ratio)\n",
    "        labeled_indices = torch.randperm(len(self.attrs))[:labeled_count]\n",
    "        self.labeled_mask[labeled_indices] = True\n",
    "\n",
    "        # Mask unlabeled attributes by setting to -1\n",
    "        self.attrs[~self.labeled_mask] = -1\n",
    "\n",
    "    def __len__(self):\n",
    "        return len(self.dataset)\n",
    "\n",
    "    def __getitem__(self, idx):\n",
    "        image, _ = self.dataset[idx]\n",
    "        label = self.attrs[idx]  # shape: [40], with values 0, 1, or -1\n",
    "        has_label = self.labeled_mask[idx]\n",
    "        return image, label, has_label\n",
    "\n",
    "# === Model ===\n",
    "class CelebANet(nn.Module):\n",
    "    def __init__(self, num_attrs=40):\n",
    "        super(CelebANet, self).__init__()\n",
    "        self.model = nn.Sequential(\n",
    "            nn.Flatten(),\n",
    "            nn.Linear(64*64*3, 512),\n",
    "            nn.ReLU(),\n",
    "            nn.Linear(512, num_attrs),\n",
    "            nn.Sigmoid()\n",
    "        )\n",
    "\n",
    "    def forward(self, x):\n",
    "        return self.model(x)"
   ],
   "id": "601205f2f7390a44",
   "outputs": [],
   "execution_count": 13
  },
  {
   "metadata": {},
   "cell_type": "markdown",
   "source": "Afterwards, we can declare our hyperparameters for the model and load and preprocess our data to be ready to use with the model we have previously declared.",
   "id": "1dcc3289d9fbda94"
  },
  {
   "metadata": {
    "ExecuteTime": {
     "end_time": "2025-05-12T15:34:09.180050Z",
     "start_time": "2025-05-12T15:34:03.018625Z"
    }
   },
   "cell_type": "code",
   "source": [
    "# === Hyperparameters ===\n",
    "BATCH_SIZE = 64\n",
    "EPOCHS = 5\n",
    "NUM_ATTRS = 40\n",
    "TEST_SIZE = 0.2\n",
    "SL_WEIGHT = 0.3\n",
    "LABELED_RATIO = 0.02\n",
    "LR = 0.001\n",
    "\n",
    "# === Load CelebA ===\n",
    "transform = transforms.Compose([\n",
    "    transforms.Resize((64, 64)),  # Resize to manageable size\n",
    "    transforms.ToTensor()\n",
    "])\n",
    "\n",
    "full_dataset = CelebA(root='./data', target_type='attr', download=False, transform=transform)\n",
    "\n",
    "# === Split into Train and Validation Sets ===\n",
    "train_idx, val_idx = train_test_split(\n",
    "    range(len(full_dataset)),\n",
    "    test_size=TEST_SIZE,\n",
    "    stratify=full_dataset.attr[:, 20])\n",
    "\n",
    "train_dataset = Subset(full_dataset, train_idx)\n",
    "val_dataset = Subset(full_dataset, val_idx)\n",
    "semi_supervised_dataset = SemiSupervisedCelebA(train_dataset, LABELED_RATIO)\n",
    "\n",
    "train_loader = DataLoader(semi_supervised_dataset, batch_size=BATCH_SIZE, shuffle=True)\n",
    "val_loader = DataLoader(val_dataset, batch_size=BATCH_SIZE, shuffle=False)"
   ],
   "id": "fa4da63e2faab54e",
   "outputs": [],
   "execution_count": 14
  },
  {
   "metadata": {},
   "cell_type": "markdown",
   "source": "Here is a simple visualization of our data set",
   "id": "7e56f87729f5f25b"
  },
  {
   "metadata": {
    "ExecuteTime": {
     "end_time": "2025-05-12T15:34:09.225720Z",
     "start_time": "2025-05-12T15:34:09.190206Z"
    }
   },
   "cell_type": "code",
   "source": [
    "# Visualize a sample\n",
    "img, attr = full_dataset[0]\n",
    "plt.imshow(np.transpose(img.numpy(), (1, 2, 0)))\n",
    "plt.title(f\"Attributes: {attr[:40].tolist()}\")  # Show a few\n",
    "plt.axis('off')\n",
    "plt.show()"
   ],
   "id": "4868393d0a462d97",
   "outputs": [
    {
     "data": {
      "text/plain": [
       "<Figure size 640x480 with 1 Axes>"
      ],
      "image/png": "[encoded data removed]"
     },
     "metadata": {},
     "output_type": "display_data"
    }
   ],
   "execution_count": 15
  },
  {
   "metadata": {},
   "cell_type": "markdown",
   "source": "After this we can define our model",
   "id": "dc0963aa1a9df719"
  },
  {
   "metadata": {
    "ExecuteTime": {
     "end_time": "2025-05-12T15:34:23.108882Z",
     "start_time": "2025-05-12T15:34:23.077237Z"
    }
   },
   "cell_type": "code",
   "source": [
    "model = CelebANet()\n",
    "optimizer = optim.Adam(model.parameters(), lr=LR)\n",
    "loss_fn = nn.BCELoss()\n",
    "semantic_loss = SemanticLoss('constraints/celebA.sdd', 'constraints/celebA.vtree')"
   ],
   "id": "4896fcb34dbd7383",
   "outputs": [],
   "execution_count": 17
  },
  {
   "metadata": {},
   "cell_type": "markdown",
   "source": [
    "The semantic loss is calculated with the following constraints using sympy notation:\n",
    "\n",
    "\\# single sample, 40 attributes\n",
    "shape [1, 40]\n",
    "\n",
    "\\# Attribute to Variable Mapping:\n",
    "\n",
    "\\# X0.0 -> 5 o Clock Shadow\n",
    "\n",
    "\\# X0.1 -> Arched Eyebrows\n",
    "\n",
    "\\# X0.2 -> Attractive\n",
    "\n",
    "\\# X0.3 -> Bags Under Eyes\n",
    "\n",
    "\\# X0.4 -> Bald\n",
    "\n",
    "\\# X0.5 -> Bangs\n",
    "\n",
    "\\# X0.6 -> Big Lips\n",
    "\n",
    "\\# X0.7 -> Big Nose\n",
    "\n",
    "\\# X0.8 -> Black Hair\n",
    "\n",
    "\\# X0.9 -> Blond Hair\n",
    "\n",
    "\\# X0.10 -> Blurry\n",
    "\n",
    "\\# X0.11 -> Brown Hair\n",
    "\n",
    "\\# X0.12 -> Bushy Eyebrows\n",
    "\n",
    "\\# X0.13 -> Chubby\n",
    "\n",
    "\\# X0.14 -> Double Chin\n",
    "\n",
    "\\# X0.15 -> Eyeglasses\n",
    "\n",
    "\\# X0.16 -> Goatee\n",
    "\n",
    "\\# X0.17 -> Gray Hair\n",
    "\n",
    "\\# X0.18 -> Heavy Makeup\n",
    "\n",
    "\\# X0.19 -> High Cheekbones\n",
    "\n",
    "\\# X0.20 -> Male\n",
    "\n",
    "\\# X0.21 -> Mouth Slightly Open\n",
    "\n",
    "\\# X0.22 -> Mustache\n",
    "\n",
    "\\# X0.23 -> Narrow Eyes\n",
    "\n",
    "\\# X0.24 -> No Beard\n",
    "\n",
    "\\# X0.25 -> Oval Face\n",
    "\n",
    "\\# X0.26 -> Pale Skin\n",
    "\n",
    "\\# X0.27 -> Pointy Nose\n",
    "\n",
    "\\# X0.28 -> Receding Hairline\n",
    "\n",
    "\\# X0.29 -> Rosy Cheeks\n",
    "\n",
    "\\# X0.30 -> Sideburns\n",
    "\n",
    "\\# X0.31 -> Smiling\n",
    "\n",
    "\\# X0.32 -> Straight Hair\n",
    "\n",
    "\\# X0.33 -> Wavy Hair\n",
    "\n",
    "\\# X0.34 -> Wearing Earrings\n",
    "\n",
    "\\# X0.35 -> Wearing Hat\n",
    "\n",
    "\\# X0.36 -> Wearing Lipstick\n",
    "\n",
    "\\# X0.37 -> Wearing Necklace\n",
    "\n",
    "\\# X0.38 -> Wearing Necktie\n",
    "\n",
    "\\# X0.39 -> Young\n",
    "\n",
    "\\# --- Hair Color Exclusivity (Assuming X0.10 Blurry is a hair-like state) ---\n",
    "\n",
    "X0.8 >> ~(X0.4 | X0.9 | X0.10 | X0.11 | X0.17)   \\# Black Hair implies not Bald, Blond, Blurry, Brown, or Gray Hair\n",
    "\n",
    "X0.9 >> ~(X0.4 | X0.8 | X0.10 | X0.11 | X0.17)   \\# Blond Hair implies not Bald, Black, Blurry, Brown, or Gray Hair\n",
    "\n",
    "X0.10 >> ~(X0.4 | X0.8 | X0.9 | X0.11 | X0.17)  \\# Blurry implies not Bald, Black, Blond, Brown, or Gray Hair (as per user eX0.ample logic)\n",
    "\n",
    "X0.11 >> ~(X0.4 | X0.8 | X0.9 | X0.10 | X0.17)  \\# Brown Hair implies not Bald, Black, Blond, Blurry, or Gray Hair\n",
    "\n",
    "X0.17 >> ~(X0.4 | X0.8 | X0.9 | X0.10 | X0.11)  \\# Gray Hair implies not Bald, Black, Blond, Blurry, or Brown Hair\n",
    "\n",
    "\n",
    "\\# --- Hairstyle Exclusivity ---\n",
    "\n",
    "\\# Bald implies not having bangs, any specific hair color, or specific hair styles\n",
    "\n",
    "X0.4 >> ~(X0.5 | X0.8 | X0.9 | X0.10 | X0.11 | X0.17 | X0.32 | X0.33)\n",
    "\n",
    "X0.5 >> ~X0.4                \\# Bangs implies not Bald\n",
    "\n",
    "X0.5 >> ~(X0.28 | X0.4)      \\# Bangs implies not Receding Hairline or Bald\n",
    "\n",
    "X0.32 >> ~(X0.4 | X0.33)     \\# Straight Hair implies not Bald and not Wavy Hair\n",
    "\n",
    "X0.33 >> ~(X0.4 | X0.32)     \\# Wavy Hair implies not Bald and not Straight Hair\n",
    "\n",
    "\n",
    "\\# --- Facial Hair (Beard/Mustache) and Gender ---\n",
    "\n",
    "X0.0 >> ~X0.24               \\# 5 o Clock Shadow implies not No Beard\n",
    "\n",
    "X0.16 >> ~X0.24              \\# Goatee implies not No Beard\n",
    "\n",
    "X0.22 >> ~X0.24              \\# Mustache implies not No Beard\n",
    "\n",
    "X0.30 >> ~X0.24              \\# Sideburns implies not No Beard\n",
    "\n",
    "X0.24 >> ~(X0.0 | X0.16 | X0.22 | X0.30) \\# No Beard implies no 5 o Clock Shadow, Goatee, Mustache, or Sideburns\n",
    "\n",
    "\n",
    "\\# Implication of facial hair for being Male\n",
    "\n",
    "X0.0 >> X0.20                \\# 5 o Clock Shadow implies Male\n",
    "\n",
    "X0.16 >> X0.20               \\# Goatee implies Male\n",
    "\n",
    "X0.22 >> X0.20               \\# Mustache implies Male\n",
    "\n",
    "X0.30 >> X0.20               \\# Sideburns implies Male\n",
    "\n",
    "(~X0.24) >> X0.20            \\# Not No Beard (i.e., has some beard) implies Male\n",
    "\n",
    "\\# Combined rule from user eX0.ample, expanded:\n",
    "\n",
    "(X0.0 | X0.16 | X0.22 | X0.30 | ~X0.24) >> X0.20 \\# Any specific facial hair or simply having a beard implies Male\n",
    "\n",
    "\n",
    "~X0.20 >> X0.24              \\# Not Male (e.g., Female in CelebA) implies No Beard (strong assumption)\n",
    "\n",
    "\n",
    "\\# --- Makeup, Accessories, and Gender ---\n",
    "\n",
    "(X0.18 >> X0.36) & (X0.36 >> X0.18) \\# Heavy Makeup is equivalent to Wearing Lipstick (very strong correlation)\n",
    "\n",
    "\n",
    "X0.20 >> ~X0.18              \\# Male implies not Heavy Makeup\n",
    "\n",
    "X0.20 >> ~X0.36              \\# Male implies not Wearing Lipstick (covered by above if equivalent)\n",
    "\n",
    "X0.20 >> ~X0.34              \\# Male implies not Wearing Earrings\n",
    "\n",
    "X0.34 >> ~X0.20              \\# Wearing Earrings implies not Male (strong correlation in CelebA)\n",
    "\n",
    "\n",
    "X0.38 >> X0.20               \\# Wearing Necktie implies Male\n",
    "\n",
    "X0.20 >> ~X0.37              \\# Male implies not Wearing Necklace (common correlation)\n",
    "\n",
    "X0.37 >> ~X0.20              \\# Wearing Necklace implies not Male (common correlation)\n",
    "\n",
    "\n",
    "\\# Necktie is often eX0.clusive of female-associated accessories/makeup\n",
    "\n",
    "X0.38 >> ~(X0.18 | X0.34 | X0.36 | X0.37) \\# Wearing Necktie implies not Heavy Makeup, Earrings, Lipstick, or Necklace\n",
    "\n",
    "\n",
    "\\# If not Male, often associated with makeup or earrings (can be a softer rule, here as strict)\n",
    "\n",
    "\\# ~X0.20 >> (X0.18 | X0.34)    \\# Not Male implies Heavy Makeup or Wearing Earrings\n",
    "\n",
    "\n",
    "\\# --- Age-Related Attributes ---\n",
    "\n",
    "X0.4 >> ~X0.39               \\# Bald implies not Young\n",
    "\n",
    "X0.17 >> ~X0.39              \\# Gray Hair implies not Young\n",
    "\n",
    "X0.28 >> ~X0.39              \\# Receding Hairline implies not Young\n",
    "\n",
    "X0.3 >> ~X0.39               \\# Bags Under Eyes implies not Young\n",
    "\n",
    "\\# Combined: Young implies none of the above\n",
    "\n",
    "X0.39 >> ~(X0.3 | X0.4 | X0.17 | X0.28)\n",
    "\n",
    "\n",
    "X0.5 >> X0.39                \\# Bangs often correlates with Young\n",
    "\n",
    "\n",
    "\\# --- Attractiveness (Reflects Dataset Biases) ---\n",
    "\n",
    "X0.39 >> X0.2                \\# Young implies Attractive\n",
    "\n",
    "X0.19 >> X0.2                \\# High Cheekbones implies Attractive\n",
    "\n",
    "X0.18 >> X0.2                \\# Heavy Makeup implies Attractive\n",
    "\n",
    "X0.31 >> X0.2                \\# Smiling implies Attractive\n",
    "\n",
    "\n",
    "X0.13 >> ~X0.2               \\# Chubby implies not Attractive\n",
    "\n",
    "X0.3 >> ~X0.2                \\# Bags Under Eyes implies not Attractive\n",
    "\n",
    "X0.7 >> ~X0.2                \\# Big Nose implies not Attractive (verify specific correlation if critical)\n",
    "\n",
    "X0.14 >> ~X0.2               \\# Double Chin implies not Attractive (verify specific correlation)\n",
    "\n",
    "\n",
    "\\# --- Other Physical Features ---\n",
    "\n",
    "X0.14 >> X0.13               \\# Double Chin implies Chubby\n",
    "\n",
    "\n",
    "X0.7 >> ~X0.27               \\# Big Nose implies not Pointy Nose (likely mutually exclusive)\n",
    "\n",
    "X0.27 >> ~X0.7               \\# Pointy Nose implies not Big Nose\n",
    "\n",
    "\n",
    "\\# Eyebrow types if mutually eX0.clusive based on detailed heatmap view\n",
    "\n",
    "X0.12 >> ~X0.1               \\# Bushy Eyebrows implies not Arched Eyebrows\n",
    "\n",
    "X0.1 >> ~X0.12               \\# Arched Eyebrows implies not Bushy Eyebrows\n",
    "\n",
    "\n",
    "\\# --- Wearing Hat ---\n",
    "\n",
    "\\# Hat obscures some features or implies they are not prominent\n",
    "\n",
    "X0.35 >> ~(X0.4 | X0.5 | X0.28) \\# Wearing Hat implies not Bald, Bangs, or Receding Hairline (due to being covered)\n",
    "\n",
    "\n",
    "\\# --- User-Provided EX0.ample (Low correlation from heatmap) ---\n",
    "\n",
    "\\# X0.20 >> ~(X0.26)            \\# Male implies not Pale Skin (as per user's format list, low visual correlation)"
   ],
   "id": "9139c0989e11061"
  },
  {
   "metadata": {},
   "cell_type": "markdown",
   "source": "We finally get to train and evaluate the model",
   "id": "66734b6cea57f1c4"
  },
  {
   "metadata": {
    "ExecuteTime": {
     "end_time": "2025-05-12T15:42:55.504684Z",
     "start_time": "2025-05-12T15:34:28.936998Z"
    }
   },
   "cell_type": "code",
   "source": [
    "# === Training Loop ===\n",
    "for epoch in range(EPOCHS):\n",
    "    model.train()\n",
    "    total_loss = 0\n",
    "    labeled = 0\n",
    "    unlabeled = 0\n",
    "    for images, attrs, is_labeled in tqdm(train_loader, desc=f\"Epoch {epoch+1}/{EPOCHS}\", unit=\"batch\"):\n",
    "        preds = model(images)\n",
    "\n",
    "        loss_bce = torch.tensor(0.0)  # default\n",
    "\n",
    "        if is_labeled.any():\n",
    "            labeled_preds = preds[is_labeled]\n",
    "            labeled_attrs = attrs[is_labeled].float()\n",
    "            loss_bce = loss_fn(labeled_preds, labeled_attrs)\n",
    "\n",
    "        preds_reshaped = preds.view(-1, 1, 40)  # Reshape to 40 variables\n",
    "        loss_sem = semantic_loss(preds_reshaped)\n",
    "\n",
    "        loss_sum = loss_bce + SL_WEIGHT * loss_sem\n",
    "        optimizer.zero_grad()\n",
    "        loss_sum.backward()\n",
    "        optimizer.step()\n",
    "\n",
    "        total_loss += loss_sum.item()\n",
    "\n",
    "        num_labeled = is_labeled.sum().item()\n",
    "        num_unlabeled = (~is_labeled).sum().item()\n",
    "\n",
    "        labeled += num_labeled\n",
    "        unlabeled += num_unlabeled\n",
    "\n",
    "    print(f\"Epoch {epoch+1}/{EPOCHS}, Training Loss: {total_loss / len(train_loader):.4f}, Labeled: {labeled}, Unlabeled: {unlabeled}\")\n",
    "\n",
    "    # === Evaluation ===\n",
    "    model.eval()\n",
    "    correct = 0\n",
    "    total = 0\n",
    "    with torch.no_grad():\n",
    "        for images, attrs in val_loader:\n",
    "            attrs[attrs == -1] = 0\n",
    "            preds = model(images)\n",
    "            preds_binary = (preds > 0.5).float()\n",
    "            correct += (preds_binary == attrs).sum().item()\n",
    "            total += torch.numel(attrs)\n",
    "\n",
    "    accuracy = 100 * correct / total\n",
    "    print(f\"Validation Accuracy: {accuracy:.4f}\")"
   ],
   "id": "59aae4ed1b554ed3",
   "outputs": [
    {
     "name": "stderr",
     "output_type": "stream",
     "text": [
      "Epoch 1/5: 100%|██████████| 2035/2035 [01:28<00:00, 23.01batch/s]\n"
     ]
    },
    {
     "name": "stdout",
     "output_type": "stream",
     "text": [
      "Epoch 1/5, Training Loss: 3.8063, Labeled: 2604, Unlabeled: 127612\n",
      "Validation Accuracy: 77.4431\n"
     ]
    },
    {
     "name": "stderr",
     "output_type": "stream",
     "text": [
      "Epoch 2/5: 100%|██████████| 2035/2035 [01:25<00:00, 23.77batch/s]\n"
     ]
    },
    {
     "name": "stdout",
     "output_type": "stream",
     "text": [
      "Epoch 2/5, Training Loss: 3.7776, Labeled: 2604, Unlabeled: 127612\n",
      "Validation Accuracy: 77.4366\n"
     ]
    },
    {
     "name": "stderr",
     "output_type": "stream",
     "text": [
      "Epoch 3/5: 100%|██████████| 2035/2035 [01:22<00:00, 24.52batch/s]\n"
     ]
    },
    {
     "name": "stdout",
     "output_type": "stream",
     "text": [
      "Epoch 3/5, Training Loss: 3.7575, Labeled: 2604, Unlabeled: 127612\n",
      "Validation Accuracy: 77.5330\n"
     ]
    },
    {
     "name": "stderr",
     "output_type": "stream",
     "text": [
      "Epoch 4/5: 100%|██████████| 2035/2035 [01:23<00:00, 24.44batch/s]\n"
     ]
    },
    {
     "name": "stdout",
     "output_type": "stream",
     "text": [
      "Epoch 4/5, Training Loss: 3.7368, Labeled: 2604, Unlabeled: 127612\n",
      "Validation Accuracy: 77.5401\n"
     ]
    },
    {
     "name": "stderr",
     "output_type": "stream",
     "text": [
      "Epoch 5/5: 100%|██████████| 2035/2035 [01:24<00:00, 24.15batch/s]\n"
     ]
    },
    {
     "name": "stdout",
     "output_type": "stream",
     "text": [
      "Epoch 5/5, Training Loss: 3.7336, Labeled: 2604, Unlabeled: 127612\n",
      "Validation Accuracy: 77.5755\n"
     ]
    }
   ],
   "execution_count": 18
  }
 ],
 "metadata": {
  "kernelspec": {
   "display_name": "Python 3",
   "language": "python",
   "name": "python3"
  },
  "language_info": {
   "codemirror_mode": {
    "name": "ipython",
    "version": 2
   },
   "file_extension": ".py",
   "mimetype": "text/x-python",
   "name": "python",
   "nbconvert_exporter": "python",
   "pygments_lexer": "ipython2",
   "version": "2.7.6"
  }
 },
 "nbformat": 4,
 "nbformat_minor": 5
}
