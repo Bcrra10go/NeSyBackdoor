{
 "cells": [
  {
   "cell_type": "markdown",
   "id": "1ec6702a92529203",
   "metadata": {},
   "source": [
    "# CelebA Semantic Loss Model\n",
    "#### Research Project - Diego Becerra Merodio 5459117\n",
    "In this Jupyter Notebook, we will train a Semantic Loss model with task of recognizing the different features labeled by the CelebA dataset. This dataset takes images of celebrities and identifies 40 different attributes from their facial features. Using the following image, we identified the correlation between the attributes and derived the predicates for the Semantic Loss model.\n",
    "\n",
    "<img src=\"images/CelebA_correlation.png\" alt=\"CelebA Sample\" width=\"600\"/>"
   ]
  },
  {
   "cell_type": "markdown",
   "id": "92548c4c6e9f87ea",
   "metadata": {},
   "source": [
    "The first step is to declare and import all dependencies"
   ]
  },
  {
   "cell_type": "code",
   "id": "5b50a8dcde5934bf",
   "metadata": {
    "ExecuteTime": {
     "end_time": "2025-05-13T13:55:57.713371Z",
     "start_time": "2025-05-13T13:55:57.710010Z"
    }
   },
   "source": [
    "import matplotlib.pyplot as plt\n",
    "import numpy as np\n",
    "import torch\n",
    "import torch.nn as nn\n",
    "import torchvision.transforms as transforms\n",
    "from semantic_loss_pytorch import SemanticLoss\n",
    "from tqdm import tqdm\n",
    "from sklearn.model_selection import train_test_split\n",
    "from torch import optim\n",
    "from torchvision.datasets import CelebA\n",
    "from torch.utils.data import DataLoader, Subset\n",
    "from torch.utils.data import Dataset"
   ],
   "outputs": [],
   "execution_count": 4
  },
  {
   "cell_type": "markdown",
   "id": "dbaaa884c3d80668",
   "metadata": {},
   "source": [
    "After this, we can defined our custom data set for a semisupervised CelebA data set and a model for our neural network"
   ]
  },
  {
   "cell_type": "code",
   "id": "601205f2f7390a44",
   "metadata": {
    "ExecuteTime": {
     "end_time": "2025-05-13T13:55:59.361638Z",
     "start_time": "2025-05-13T13:55:59.355335Z"
    }
   },
   "source": [
    "# === Dataset ===\n",
    "class SemiSupervisedCelebA(Dataset):\n",
    "    def __init__(self, dataset, labeled_ratio=0.1):\n",
    "        self.dataset = dataset\n",
    "\n",
    "        # Get subset indices\n",
    "        subset_indices = dataset.indices\n",
    "        full_attrs = dataset.dataset.attr.clone()  # shape: [N, 40]\n",
    "\n",
    "        # Only use attributes for the subset\n",
    "        self.attrs = full_attrs[subset_indices]\n",
    "        self.attrs[self.attrs == -1] = 0\n",
    "\n",
    "        # Create label mask\n",
    "        self.labeled_mask = torch.zeros(len(self.attrs), dtype=torch.bool)\n",
    "        labeled_count = int(len(self.attrs) * labeled_ratio)\n",
    "        labeled_indices = torch.randperm(len(self.attrs))[:labeled_count]\n",
    "        self.labeled_mask[labeled_indices] = True\n",
    "\n",
    "        # Mask unlabeled attributes by setting to -1\n",
    "        self.attrs[~self.labeled_mask] = -1\n",
    "\n",
    "    def __len__(self):\n",
    "        return len(self.dataset)\n",
    "\n",
    "    def __getitem__(self, idx):\n",
    "        image, _ = self.dataset[idx]\n",
    "        label = self.attrs[idx]  # shape: [40], with values 0, 1, or -1\n",
    "        has_label = self.labeled_mask[idx]\n",
    "        return image, label, has_label\n",
    "\n",
    "# === Model ===\n",
    "class CelebANet(nn.Module):\n",
    "    def __init__(self, num_attrs=40):\n",
    "        super(CelebANet, self).__init__()\n",
    "        self.model = nn.Sequential(\n",
    "            nn.Flatten(),\n",
    "            nn.Linear(64*64*3, 512),\n",
    "            nn.ReLU(),\n",
    "            nn.Linear(512, num_attrs),\n",
    "            nn.Sigmoid()\n",
    "        )\n",
    "\n",
    "    def forward(self, x):\n",
    "        return self.model(x)"
   ],
   "outputs": [],
   "execution_count": 5
  },
  {
   "cell_type": "markdown",
   "id": "1dcc3289d9fbda94",
   "metadata": {},
   "source": [
    "Afterwards, we can declare our hyperparameters for the model and load and preprocess our data to be ready to use with the model we have previously declared."
   ]
  },
  {
   "cell_type": "code",
   "id": "fa4da63e2faab54e",
   "metadata": {
    "ExecuteTime": {
     "end_time": "2025-05-13T13:56:08.315394Z",
     "start_time": "2025-05-13T13:56:01.982926Z"
    }
   },
   "source": [
    "# === Hyperparameters ===\n",
    "BATCH_SIZE = 64\n",
    "EPOCHS = 5\n",
    "NUM_ATTRS = 40\n",
    "TEST_SIZE = 0.2\n",
    "SL_WEIGHT = 0.3\n",
    "LABELED_RATIO = 0.02\n",
    "LR = 0.001\n",
    "\n",
    "# === Load CelebA ===\n",
    "transform = transforms.Compose([\n",
    "    transforms.Resize((64, 64)),  # Resize to manageable size\n",
    "    transforms.ToTensor()\n",
    "])\n",
    "\n",
    "full_dataset = CelebA(root='../data', target_type='attr', download=False, transform=transform)\n",
    "\n",
    "# === Split into Train and Validation Sets ===\n",
    "train_idx, val_idx = train_test_split(\n",
    "    range(len(full_dataset)),\n",
    "    test_size=TEST_SIZE,\n",
    "    stratify=full_dataset.attr[:, 20])\n",
    "\n",
    "train_dataset = Subset(full_dataset, train_idx)\n",
    "val_dataset = Subset(full_dataset, val_idx)\n",
    "semi_supervised_dataset = SemiSupervisedCelebA(train_dataset, LABELED_RATIO)\n",
    "\n",
    "train_loader = DataLoader(semi_supervised_dataset, batch_size=BATCH_SIZE, shuffle=True)\n",
    "val_loader = DataLoader(val_dataset, batch_size=BATCH_SIZE, shuffle=False)"
   ],
   "outputs": [],
   "execution_count": 6
  },
  {
   "cell_type": "markdown",
   "id": "7e56f87729f5f25b",
   "metadata": {},
   "source": [
    "Here is a simple visualization of our data set"
   ]
  },
  {
   "cell_type": "code",
   "id": "4868393d0a462d97",
   "metadata": {
    "ExecuteTime": {
     "end_time": "2025-05-13T13:56:08.481600Z",
     "start_time": "2025-05-13T13:56:08.328093Z"
    }
   },
   "source": [
    "# Visualize a sample\n",
    "# Define attribute names\n",
    "attr_names = [\n",
    "    '5_o_Clock_Shadow', 'Arched_Eyebrows', 'Attractive', 'Bags_Under_Eyes', 'Bald',\n",
    "    'Bangs', 'Big_Lips', 'Big_Nose', 'Black_Hair', 'Blond_Hair', 'Blurry', 'Brown_Hair',\n",
    "    'Bushy_Eyebrows', 'Chubby', 'Double_Chin', 'Eyeglasses', 'Goatee', 'Gray_Hair',\n",
    "    'Heavy_Makeup', 'High_Cheekbones', 'Male', 'Mouth_Slightly_Open', 'Mustache',\n",
    "    'Narrow_Eyes', 'No_Beard', 'Oval_Face', 'Pale_Skin', 'Pointy_Nose',\n",
    "    'Receding_Hairline', 'Rosy_Cheeks', 'Sideburns', 'Smiling', 'Straight_Hair',\n",
    "    'Wavy_Hair', 'Wearing_Earrings', 'Wearing_Hat', 'Wearing_Lipstick',\n",
    "    'Wearing_Necklace', 'Wearing_Necktie', 'Young'\n",
    "]\n",
    "\n",
    "# Visualize a sample\n",
    "img, attr = full_dataset[0]\n",
    "plt.figure(figsize=(12, 6))\n",
    "\n",
    "# Plot image on the left\n",
    "plt.subplot(1, 2, 1)\n",
    "plt.imshow(np.transpose(img.numpy(), (1, 2, 0)))\n",
    "plt.title(\"Sample Image\")\n",
    "plt.axis('off')\n",
    "\n",
    "# Plot attributes on the right\n",
    "plt.subplot(1, 2, 2)\n",
    "present_attrs = [name for i, name in enumerate(attr_names) if attr[i] == 1]\n",
    "plt.text(0, 0.5, \"Present Attributes:\\n\\n\" + \"\\n\".join(present_attrs), fontsize=10)\n",
    "plt.axis('off')\n",
    "\n",
    "plt.tight_layout()\n",
    "plt.show()"
   ],
   "outputs": [
    {
     "data": {
      "text/plain": [
       "<Figure size 1200x600 with 2 Axes>"
      ],
      "image/png": "[encoded data removed]"
     },
     "metadata": {},
     "output_type": "display_data"
    }
   ],
   "execution_count": 7
  },
  {
   "cell_type": "markdown",
   "id": "dc0963aa1a9df719",
   "metadata": {},
   "source": [
    "After this we can define our model"
   ]
  },
  {
   "cell_type": "code",
   "id": "4896fcb34dbd7383",
   "metadata": {
    "ExecuteTime": {
     "end_time": "2025-05-13T13:56:15.399794Z",
     "start_time": "2025-05-13T13:56:15.373720Z"
    }
   },
   "source": [
    "model = CelebANet()\n",
    "optimizer = optim.Adam(model.parameters(), lr=LR)\n",
    "loss_fn = nn.BCELoss()\n",
    "semantic_loss = SemanticLoss('constraints/celebA_constraints.sdd', 'constraints/celebA_constraints.vtree')"
   ],
   "outputs": [],
   "execution_count": 8
  },
  {
   "cell_type": "markdown",
   "id": "9139c0989e11061",
   "metadata": {},
   "source": [
    "### Constraints\n",
    "The following constraints were identified and implemented in the semantic loss model:\n",
    "\n",
    "1. Hair Color Exclusivity:\n",
    "   - A person cannot have black hair and blond hair simultaneously\n",
    "   - A person cannot have black hair and brown hair simultaneously\n",
    "   - A person cannot have blond hair and brown hair simultaneously\n",
    "   - A person cannot have gray hair and any other hair color\n",
    "\n",
    "2. Gender-Based Constraints:\n",
    "   - Males typically do not wear heavy makeup\n",
    "   - Males typically do not wear lipstick\n",
    "   - Males typically have no bangs\n",
    "   - Males typically do not wear earrings\n",
    "\n",
    "3. Facial Hair Relationships:\n",
    "   - No beard implies no goatee and no mustache\n",
    "   - Having a goatee or mustache implies having facial hair (not no beard)\n",
    "   - Having a goatee implies having facial hair\n",
    "   - Having a mustache implies having facial hair\n",
    "\n",
    "4. Facial Feature Correlations:\n",
    "   - Heavy makeup is often associated with wearing lipstick\n",
    "   - Bald people typically have no bangs\n",
    "   - People with receding hairlines typically do not have bangs\n",
    "\n",
    "5. Accessory Relationships:\n",
    "   - Wearing a hat often means no earrings are visible\n",
    "   - Wearing a necktie is more common in males\n",
    "\n",
    "These constraints help guide the model to make more logically consistent predictions about facial attributes."
   ]
  },
  {
   "cell_type": "markdown",
   "id": "66734b6cea57f1c4",
   "metadata": {},
   "source": [
    "We finally get to train and evaluate the model"
   ]
  },
  {
   "cell_type": "code",
   "id": "59aae4ed1b554ed3",
   "metadata": {
    "ExecuteTime": {
     "end_time": "2025-05-13T14:06:03.749798Z",
     "start_time": "2025-05-13T13:59:34.271190Z"
    }
   },
   "source": [
    "# === Training Loop ===\n",
    "for epoch in range(EPOCHS):\n",
    "    model.train()\n",
    "    total_loss = 0\n",
    "    labeled = 0\n",
    "    unlabeled = 0\n",
    "    for images, attrs, is_labeled in tqdm(train_loader, desc=f\"Epoch {epoch+1}/{EPOCHS}\", unit=\"batch\"):\n",
    "        preds = model(images)  # shape: [batch_size, 40]\n",
    "\n",
    "        loss_bce = torch.tensor(0.0, requires_grad=True, device=preds.device)\n",
    "\n",
    "        if is_labeled.any():\n",
    "            labeled_preds = preds[is_labeled]\n",
    "            labeled_attrs = attrs[is_labeled].float()\n",
    "            loss_bce = loss_fn(labeled_preds, labeled_attrs)\n",
    "\n",
    "        loss_sem = semantic_loss(probabilities=preds)\n",
    "\n",
    "        loss_sum = loss_bce + SL_WEIGHT * loss_sem\n",
    "        optimizer.zero_grad()\n",
    "        loss_sum.backward()\n",
    "        optimizer.step()\n",
    "\n",
    "        total_loss += loss_sum.item()\n",
    "\n",
    "        num_labeled = is_labeled.sum().item()\n",
    "        num_unlabeled = (~is_labeled).sum().item()\n",
    "\n",
    "        labeled += num_labeled\n",
    "        unlabeled += num_unlabeled\n",
    "\n",
    "    print(f\"Epoch {epoch+1}/{EPOCHS}, Labeled: {labeled}, Unlabeled: {unlabeled}\")\n",
    "\n",
    "    # === Evaluation ===\n",
    "    model.eval()\n",
    "    correct = 0\n",
    "    total = 0\n",
    "    with torch.no_grad():\n",
    "        for images, attrs in val_loader:\n",
    "            attrs[attrs == -1] = 0\n",
    "            preds = model(images)\n",
    "            preds_binary = (preds > 0.5).float()\n",
    "            correct += (preds_binary == attrs).sum().item()\n",
    "            total += torch.numel(attrs)\n",
    "\n",
    "    accuracy = 100 * correct / total\n",
    "    print(f\"Validation Accuracy: {accuracy:.4f}\")"
   ],
   "outputs": [
    {
     "name": "stderr",
     "output_type": "stream",
     "text": [
      "Epoch 1/5: 100%|██████████| 2035/2035 [01:17<00:00, 26.31batch/s]\n"
     ]
    },
    {
     "name": "stdout",
     "output_type": "stream",
     "text": [
      "Epoch 1/5, Labeled: 2604, Unlabeled: 127612\n",
      "Validation Accuracy: 83.0588\n"
     ]
    },
    {
     "name": "stderr",
     "output_type": "stream",
     "text": [
      "Epoch 2/5: 100%|██████████| 2035/2035 [01:09<00:00, 29.30batch/s]\n"
     ]
    },
    {
     "name": "stdout",
     "output_type": "stream",
     "text": [
      "Epoch 2/5, Labeled: 2604, Unlabeled: 127612\n",
      "Validation Accuracy: 83.0158\n"
     ]
    },
    {
     "name": "stderr",
     "output_type": "stream",
     "text": [
      "Epoch 3/5: 100%|██████████| 2035/2035 [00:59<00:00, 34.41batch/s]\n"
     ]
    },
    {
     "name": "stdout",
     "output_type": "stream",
     "text": [
      "Epoch 3/5, Labeled: 2604, Unlabeled: 127612\n",
      "Validation Accuracy: 83.6489\n"
     ]
    },
    {
     "name": "stderr",
     "output_type": "stream",
     "text": [
      "Epoch 4/5: 100%|██████████| 2035/2035 [01:00<00:00, 33.71batch/s]\n"
     ]
    },
    {
     "name": "stdout",
     "output_type": "stream",
     "text": [
      "Epoch 4/5, Labeled: 2604, Unlabeled: 127612\n",
      "Validation Accuracy: 84.0044\n"
     ]
    },
    {
     "name": "stderr",
     "output_type": "stream",
     "text": [
      "Epoch 5/5: 100%|██████████| 2035/2035 [00:59<00:00, 34.17batch/s]\n"
     ]
    },
    {
     "name": "stdout",
     "output_type": "stream",
     "text": [
      "Epoch 5/5, Labeled: 2604, Unlabeled: 127612\n",
      "Validation Accuracy: 84.2503\n"
     ]
    }
   ],
   "execution_count": 12
  }
 ],
 "metadata": {
  "kernelspec": {
   "display_name": ".venv",
   "language": "python",
   "name": "python3"
  },
  "language_info": {
   "codemirror_mode": {
    "name": "ipython",
    "version": 3
   },
   "file_extension": ".py",
   "mimetype": "text/x-python",
   "name": "python",
   "nbconvert_exporter": "python",
   "pygments_lexer": "ipython3",
   "version": "3.9.6"
  }
 },
 "nbformat": 4,
 "nbformat_minor": 5
}
